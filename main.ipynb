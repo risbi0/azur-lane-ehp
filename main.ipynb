{
 "cells": [
  {
   "cell_type": "code",
   "execution_count": 1,
   "metadata": {},
   "outputs": [],
   "source": [
    "import pandas as pd\n",
    "import numpy as np\n",
    "\n",
    "pd.options.mode.chained_assignment = None"
   ]
  },
  {
   "cell_type": "code",
   "execution_count": 2,
   "metadata": {},
   "outputs": [],
   "source": [
    "df = pd.read_excel('eHP2.xlsm', sheet_name='125 V eHP', engine='openpyxl')\n",
    "details = pd.read_excel('eHP2.xlsm', sheet_name='125 V', engine='openpyxl')"
   ]
  },
  {
   "cell_type": "code",
   "execution_count": 3,
   "metadata": {},
   "outputs": [],
   "source": [
    "def get_hull(ship_name):\n",
    "    return details.loc[details['Ship'] == ship_name]['Type'].iloc[0]\n",
    "\n",
    "def get_armor(ship_name):\n",
    "    return details.loc[details['Ship'] == ship_name]['Armor'].iloc[0]\n",
    "\n",
    "new_df = df[['Ship', 'SORT']]\n",
    "new_df['hull'] = new_df['Ship'].apply(get_hull)\n",
    "new_df['armor'] = new_df['Ship'].apply(get_armor)\n",
    "new_df['SORT'] = new_df['SORT'].astype(np.int16)\n",
    "new_df.rename(columns={'Ship': 'name', 'SORT': 'ehp'}, inplace=True)\n",
    "new_df.sort_values('ehp', inplace=True)\n",
    "new_df.reset_index(drop=True, inplace=True)\n",
    "new_df.to_csv('vg.csv')"
   ]
  }
 ],
 "metadata": {
  "kernelspec": {
   "display_name": "Python 3",
   "language": "python",
   "name": "python3"
  },
  "language_info": {
   "codemirror_mode": {
    "name": "ipython",
    "version": 3
   },
   "file_extension": ".py",
   "mimetype": "text/x-python",
   "name": "python",
   "nbconvert_exporter": "python",
   "pygments_lexer": "ipython3",
   "version": "3.10.0"
  },
  "orig_nbformat": 4
 },
 "nbformat": 4,
 "nbformat_minor": 2
}
